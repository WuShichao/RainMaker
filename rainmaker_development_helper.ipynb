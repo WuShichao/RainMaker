{
 "cells": [
  {
   "cell_type": "code",
   "execution_count": 1,
   "metadata": {
    "collapsed": true
   },
   "outputs": [],
   "source": [
    "from rainmaker import rainmaker"
   ]
  },
  {
   "cell_type": "code",
   "execution_count": 2,
   "metadata": {
    "collapsed": true
   },
   "outputs": [],
   "source": [
    "filename = \"tests/testdata/accept_main_table.txt\"\n",
    "cluster_name = \"Abell 2597\""
   ]
  },
  {
   "cell_type": "code",
   "execution_count": 3,
   "metadata": {
    "collapsed": false
   },
   "outputs": [
    {
     "name": "stdout",
     "output_type": "stream",
     "text": [
      "Matched cluster name to one in the table: ABELL_2597\n",
      "   Name      Rin     Rout   nelec   ... tcool52  t52err  tcool32  t32err \n",
      "---------- ------- ------- -------- ... ------- -------- ------- --------\n",
      "ABELL_2597 0.08328 0.09086 0.010248 ...  6.3758  0.56539  3.8255  0.33924\n",
      "ABELL_2597 0.07571 0.08328 0.010591 ...  6.0834  0.61682    3.65   0.3701\n",
      "ABELL_2597 0.06814 0.07571 0.012271 ...  5.3795  0.54404  3.2277  0.32642\n",
      "ABELL_2597 0.06057 0.06814  0.01408 ...  4.5981  0.45683  2.7588   0.2741\n",
      "ABELL_2597   0.053 0.06057 0.016118 ...  3.9332  0.38534  2.3599  0.23121\n",
      "ABELL_2597 0.04543   0.053 0.022143 ...  2.8291  0.26501  1.6975  0.15901\n",
      "ABELL_2597 0.03786 0.04543 0.026009 ...  2.2238  0.22594  1.3343  0.13556\n",
      "ABELL_2597 0.03029 0.03786 0.032752 ...  1.6457  0.13393 0.98742 0.080358\n",
      "ABELL_2597 0.02271 0.03029 0.035399 ...  1.4341  0.12024 0.86047 0.072145\n",
      "ABELL_2597 0.01514 0.02271  0.04305 ...  1.1073 0.089195 0.66438 0.053517\n",
      "ABELL_2597 0.00757 0.01514 0.065628 ... 0.70704 0.056622 0.42422 0.033973\n",
      "ABELL_2597     0.0 0.00757 0.084861 ... 0.50907 0.041211 0.30544 0.024727\n"
     ]
    }
   ],
   "source": [
    "data = rainmaker.rainmaker_notebook_init(filename, cluster_name)"
   ]
  },
  {
   "cell_type": "code",
   "execution_count": 4,
   "metadata": {
    "collapsed": false
   },
   "outputs": [
    {
     "data": {
      "text/html": [
       "&lt;Table length=12&gt;\n",
       "<table id=\"table140709884623672\" class=\"table-striped table-bordered table-condensed\">\n",
       "<thead><tr><th>Name</th><th>Rin</th><th>Rout</th><th>nelec</th><th>neerr</th><th>Kitpl</th><th>Kflat</th><th>Kerr</th><th>Pitpl</th><th>Pflat</th><th>Perr</th><th>Mgrav</th><th>Merr</th><th>Tx</th><th>Txerr</th><th>Lambda</th><th>tcool52</th><th>t52err</th><th>tcool32</th><th>t32err</th></tr></thead>\n",
       "<thead><tr><th>str18</th><th>float64</th><th>float64</th><th>float64</th><th>float64</th><th>float64</th><th>float64</th><th>float64</th><th>float64</th><th>float64</th><th>float64</th><th>float64</th><th>float64</th><th>float64</th><th>float64</th><th>float64</th><th>float64</th><th>float64</th><th>float64</th><th>float64</th></tr></thead>\n",
       "<tr><td>ABELL_2597</td><td>0.08328</td><td>0.09086</td><td>0.010248</td><td>0.00020889</td><td>84.828</td><td>84.828</td><td>7.434</td><td>6.6446e-11</td><td>6.6446e-11</td><td>5.91e-12</td><td>5.0837e+12</td><td>322760000000.0</td><td>4.0052</td><td>0.34566</td><td>1.7894e-23</td><td>6.3758</td><td>0.56539</td><td>3.8255</td><td>0.33924</td></tr>\n",
       "<tr><td>ABELL_2597</td><td>0.07571</td><td>0.08328</td><td>0.010591</td><td>0.00038548</td><td>81.501</td><td>81.501</td><td>7.8627</td><td>6.7436e-11</td><td>6.7436e-11</td><td>6.7582e-12</td><td>1.8715e+13</td><td>1.2814e+12</td><td>3.9491</td><td>0.37373</td><td>1.7894e-23</td><td>6.0834</td><td>0.61682</td><td>3.65</td><td>0.3701</td></tr>\n",
       "<tr><td>ABELL_2597</td><td>0.06814</td><td>0.07571</td><td>0.012271</td><td>0.00035305</td><td>78.347</td><td>78.347</td><td>7.7008</td><td>8.2861e-11</td><td>8.2861e-11</td><td>8.3361e-12</td><td>1.5237e+13</td><td>1.0772e+12</td><td>4.2416</td><td>0.41124</td><td>1.8758e-23</td><td>5.3795</td><td>0.54404</td><td>3.2277</td><td>0.32642</td></tr>\n",
       "<tr><td>ABELL_2597</td><td>0.06057</td><td>0.06814</td><td>0.01408</td><td>0.0004097</td><td>72.837</td><td>72.837</td><td>7.1284</td><td>9.6871e-11</td><td>9.6871e-11</td><td>9.7107e-12</td><td>1.3862e+13</td><td>975160000000.0</td><td>4.2094</td><td>0.39988</td><td>1.8982e-23</td><td>4.5981</td><td>0.45683</td><td>2.7588</td><td>0.2741</td></tr>\n",
       "<tr><td>ABELL_2597</td><td>0.053</td><td>0.06057</td><td>0.016118</td><td>0.00043943</td><td>64.585</td><td>64.585</td><td>6.1777</td><td>1.076e-10</td><td>1.076e-10</td><td>1.0522e-11</td><td>1.1918e+13</td><td>820720000000.0</td><td>4.0748</td><td>0.38345</td><td>1.8765e-23</td><td>3.9332</td><td>0.38534</td><td>2.3599</td><td>0.23121</td></tr>\n",
       "<tr><td>ABELL_2597</td><td>0.04543</td><td>0.053</td><td>0.022143</td><td>0.00049273</td><td>49.883</td><td>49.883</td><td>4.6894</td><td>1.411e-10</td><td>1.411e-10</td><td>1.3469e-11</td><td>9.0001e+12</td><td>612690000000.0</td><td>3.8184</td><td>0.34744</td><td>1.7795e-23</td><td>2.8291</td><td>0.26501</td><td>1.6975</td><td>0.15901</td></tr>\n",
       "<tr><td>ABELL_2597</td><td>0.03786</td><td>0.04543</td><td>0.026009</td><td>0.0005576</td><td>41.287</td><td>41.287</td><td>4.132</td><td>1.5271e-10</td><td>1.5271e-10</td><td>1.5476e-11</td><td>6.8775e+12</td><td>499570000000.0</td><td>3.5377</td><td>0.35133</td><td>1.7856e-23</td><td>2.2238</td><td>0.22594</td><td>1.3343</td><td>0.13556</td></tr>\n",
       "<tr><td>ABELL_2597</td><td>0.03029</td><td>0.03786</td><td>0.032752</td><td>0.00053117</td><td>33.761</td><td>33.761</td><td>2.7789</td><td>1.8337e-10</td><td>1.8337e-10</td><td>1.5255e-11</td><td>4.9278e+12</td><td>294870000000.0</td><td>3.2308</td><td>0.25765</td><td>1.7498e-23</td><td>1.6457</td><td>0.13393</td><td>0.98742</td><td>0.080358</td></tr>\n",
       "<tr><td>ABELL_2597</td><td>0.02271</td><td>0.03029</td><td>0.035399</td><td>0.00057924</td><td>29.155</td><td>29.155</td><td>2.5724</td><td>1.8025e-10</td><td>1.8025e-10</td><td>1.6055e-11</td><td>2.5753e+12</td><td>165350000000.0</td><td>3.1708</td><td>0.26074</td><td>1.8234e-23</td><td>1.4341</td><td>0.12024</td><td>0.86047</td><td>0.072145</td></tr>\n",
       "<tr><td>ABELL_2597</td><td>0.01514</td><td>0.02271</td><td>0.04305</td><td>0.00058564</td><td>25.394</td><td>25.394</td><td>1.9254</td><td>2.1754e-10</td><td>2.1754e-10</td><td>1.664e-11</td><td>2.726e+12</td><td>150480000000.0</td><td>3.0181</td><td>0.23962</td><td>1.8483e-23</td><td>1.1073</td><td>0.089195</td><td>0.66438</td><td>0.053517</td></tr>\n",
       "<tr><td>ABELL_2597</td><td>0.00757</td><td>0.01514</td><td>0.065628</td><td>0.00072684</td><td>16.165</td><td>16.165</td><td>1.284</td><td>2.7961e-10</td><td>2.7961e-10</td><td>2.233e-11</td><td>546380000000.0</td><td>31689000000.0</td><td>2.5829</td><td>0.20486</td><td>1.625e-23</td><td>0.70704</td><td>0.056622</td><td>0.42422</td><td>0.033973</td></tr>\n",
       "<tr><td>ABELL_2597</td><td>0.0</td><td>0.00757</td><td>0.084861</td><td>0.00071986</td><td>11.496</td><td>12.221</td><td>0.98604</td><td>3.0519e-10</td><td>3.2444e-10</td><td>2.6248e-11</td><td>230600000000.0</td><td>14473000000.0</td><td>2.36</td><td>0.19</td><td>1.5948e-23</td><td>0.50907</td><td>0.041211</td><td>0.30544</td><td>0.024727</td></tr>\n",
       "</table>"
      ],
      "text/plain": [
       "<Table length=12>\n",
       "   Name      Rin     Rout   nelec   ... tcool52  t52err  tcool32  t32err \n",
       "  str18    float64 float64 float64  ... float64 float64  float64 float64 \n",
       "---------- ------- ------- -------- ... ------- -------- ------- --------\n",
       "ABELL_2597 0.08328 0.09086 0.010248 ...  6.3758  0.56539  3.8255  0.33924\n",
       "ABELL_2597 0.07571 0.08328 0.010591 ...  6.0834  0.61682    3.65   0.3701\n",
       "ABELL_2597 0.06814 0.07571 0.012271 ...  5.3795  0.54404  3.2277  0.32642\n",
       "ABELL_2597 0.06057 0.06814  0.01408 ...  4.5981  0.45683  2.7588   0.2741\n",
       "ABELL_2597   0.053 0.06057 0.016118 ...  3.9332  0.38534  2.3599  0.23121\n",
       "ABELL_2597 0.04543   0.053 0.022143 ...  2.8291  0.26501  1.6975  0.15901\n",
       "ABELL_2597 0.03786 0.04543 0.026009 ...  2.2238  0.22594  1.3343  0.13556\n",
       "ABELL_2597 0.03029 0.03786 0.032752 ...  1.6457  0.13393 0.98742 0.080358\n",
       "ABELL_2597 0.02271 0.03029 0.035399 ...  1.4341  0.12024 0.86047 0.072145\n",
       "ABELL_2597 0.01514 0.02271  0.04305 ...  1.1073 0.089195 0.66438 0.053517\n",
       "ABELL_2597 0.00757 0.01514 0.065628 ... 0.70704 0.056622 0.42422 0.033973\n",
       "ABELL_2597     0.0 0.00757 0.084861 ... 0.50907 0.041211 0.30544 0.024727"
      ]
     },
     "execution_count": 4,
     "metadata": {},
     "output_type": "execute_result"
    }
   ],
   "source": [
    "data"
   ]
  },
  {
   "cell_type": "code",
   "execution_count": null,
   "metadata": {
    "collapsed": true
   },
   "outputs": [],
   "source": []
  },
  {
   "cell_type": "code",
   "execution_count": null,
   "metadata": {
    "collapsed": true
   },
   "outputs": [],
   "source": []
  }
 ],
 "metadata": {
  "anaconda-cloud": {},
  "kernelspec": {
   "display_name": "Python [Root]",
   "language": "python",
   "name": "Python [Root]"
  },
  "language_info": {
   "codemirror_mode": {
    "name": "ipython",
    "version": 3
   },
   "file_extension": ".py",
   "mimetype": "text/x-python",
   "name": "python",
   "nbconvert_exporter": "python",
   "pygments_lexer": "ipython3",
   "version": "3.5.2"
  }
 },
 "nbformat": 4,
 "nbformat_minor": 0
}
