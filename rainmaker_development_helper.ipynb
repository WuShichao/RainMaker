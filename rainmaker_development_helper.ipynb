{
 "cells": [
  {
   "cell_type": "code",
   "execution_count": 6,
   "metadata": {
    "collapsed": true
   },
   "outputs": [],
   "source": [
    "from rainmaker import rainmaker\n",
    "\n",
    "%matplotlib inline\n",
    "import matplotlib.pyplot as plt"
   ]
  },
  {
   "cell_type": "code",
   "execution_count": 7,
   "metadata": {
    "collapsed": true
   },
   "outputs": [],
   "source": [
    "filename = \"tests/testdata/accept_main_table.txt\"\n",
    "cluster_name = \"Abell 2597\""
   ]
  },
  {
   "cell_type": "code",
   "execution_count": 8,
   "metadata": {
    "collapsed": false
   },
   "outputs": [
    {
     "name": "stdout",
     "output_type": "stream",
     "text": [
      "Matched cluster name to one in the table: ABELL_2597\n",
      "   Name      Rin     Rout   nelec   ... tcool52  t52err  tcool32  t32err \n",
      "---------- ------- ------- -------- ... ------- -------- ------- --------\n",
      "ABELL_2597 0.08328 0.09086 0.010248 ...  6.3758  0.56539  3.8255  0.33924\n",
      "ABELL_2597 0.07571 0.08328 0.010591 ...  6.0834  0.61682    3.65   0.3701\n",
      "ABELL_2597 0.06814 0.07571 0.012271 ...  5.3795  0.54404  3.2277  0.32642\n",
      "ABELL_2597 0.06057 0.06814  0.01408 ...  4.5981  0.45683  2.7588   0.2741\n",
      "ABELL_2597   0.053 0.06057 0.016118 ...  3.9332  0.38534  2.3599  0.23121\n",
      "ABELL_2597 0.04543   0.053 0.022143 ...  2.8291  0.26501  1.6975  0.15901\n",
      "ABELL_2597 0.03786 0.04543 0.026009 ...  2.2238  0.22594  1.3343  0.13556\n",
      "ABELL_2597 0.03029 0.03786 0.032752 ...  1.6457  0.13393 0.98742 0.080358\n",
      "ABELL_2597 0.02271 0.03029 0.035399 ...  1.4341  0.12024 0.86047 0.072145\n",
      "ABELL_2597 0.01514 0.02271  0.04305 ...  1.1073 0.089195 0.66438 0.053517\n",
      "ABELL_2597 0.00757 0.01514 0.065628 ... 0.70704 0.056622 0.42422 0.033973\n",
      "ABELL_2597     0.0 0.00757 0.084861 ... 0.50907 0.041211 0.30544 0.024727\n"
     ]
    }
   ],
   "source": [
    "data = rainmaker.rainmaker_notebook_init(filename, cluster_name)"
   ]
  },
  {
   "cell_type": "code",
   "execution_count": 13,
   "metadata": {
    "collapsed": true
   },
   "outputs": [],
   "source": [
    "def plotter(x, y):\n",
    "    plt.rcParams.update({'font.size': 22,\n",
    "                         'axes.labelsize': 20,\n",
    "                         'legend.fontsize': 16,\n",
    "                         'xtick.labelsize': 18,\n",
    "                         'ytick.labelsize': 18,\n",
    "                         'axes.linewidth': 2})\n",
    "    \n",
    "    fig, ax = plt.subplots()\n",
    "    ax.plot(x, y, 'b--',marker='s', label=r\"$y = \\alpha^2$\")\n",
    "    "
   ]
  },
  {
   "cell_type": "code",
   "execution_count": 14,
   "metadata": {
    "collapsed": false
   },
   "outputs": [
    {
     "data": {
      "image/png": "[encoded data removed]",
      "text/plain": [
       "<matplotlib.figure.Figure at 0x7f6dbc128048>"
      ]
     },
     "metadata": {},
     "output_type": "display_data"
    }
   ],
   "source": [
    "plotter(data['Rin'],data['tcool52'])"
   ]
  },
  {
   "cell_type": "code",
   "execution_count": null,
   "metadata": {
    "collapsed": true
   },
   "outputs": [],
   "source": []
  }
 ],
 "metadata": {
  "anaconda-cloud": {},
  "kernelspec": {
   "display_name": "Python [Root]",
   "language": "python",
   "name": "Python [Root]"
  },
  "language_info": {
   "codemirror_mode": {
    "name": "ipython",
    "version": 3
   },
   "file_extension": ".py",
   "mimetype": "text/x-python",
   "name": "python",
   "nbconvert_exporter": "python",
   "pygments_lexer": "ipython3",
   "version": "3.5.1"
  }
 },
 "nbformat": 4,
 "nbformat_minor": 0
}
