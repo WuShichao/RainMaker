{
 "cells": [
  {
   "cell_type": "code",
   "execution_count": 1,
   "metadata": {
    "collapsed": true
   },
   "outputs": [],
   "source": [
    "from rainmaker import rainmaker\n",
    "\n",
    "%matplotlib inline\n",
    "import numpy as np\n",
    "import matplotlib.pyplot as plt"
   ]
  },
  {
   "cell_type": "code",
   "execution_count": 2,
   "metadata": {
    "collapsed": true
   },
   "outputs": [],
   "source": [
    "filename = \"tests/testdata/accept_main_table.txt\"\n",
    "cluster_name = \"Abell 2597\""
   ]
  },
  {
   "cell_type": "code",
   "execution_count": 3,
   "metadata": {
    "collapsed": false
   },
   "outputs": [
    {
     "name": "stdout",
     "output_type": "stream",
     "text": [
      "Matched cluster name to one in the table: ABELL_2597\n",
      "   Name      Rin     Rout   nelec   ... tcool52  t52err  tcool32  t32err \n",
      "---------- ------- ------- -------- ... ------- -------- ------- --------\n",
      "ABELL_2597 0.08328 0.09086 0.010248 ...  6.3758  0.56539  3.8255  0.33924\n",
      "ABELL_2597 0.07571 0.08328 0.010591 ...  6.0834  0.61682    3.65   0.3701\n",
      "ABELL_2597 0.06814 0.07571 0.012271 ...  5.3795  0.54404  3.2277  0.32642\n",
      "ABELL_2597 0.06057 0.06814  0.01408 ...  4.5981  0.45683  2.7588   0.2741\n",
      "ABELL_2597   0.053 0.06057 0.016118 ...  3.9332  0.38534  2.3599  0.23121\n",
      "ABELL_2597 0.04543   0.053 0.022143 ...  2.8291  0.26501  1.6975  0.15901\n",
      "ABELL_2597 0.03786 0.04543 0.026009 ...  2.2238  0.22594  1.3343  0.13556\n",
      "ABELL_2597 0.03029 0.03786 0.032752 ...  1.6457  0.13393 0.98742 0.080358\n",
      "ABELL_2597 0.02271 0.03029 0.035399 ...  1.4341  0.12024 0.86047 0.072145\n",
      "ABELL_2597 0.01514 0.02271  0.04305 ...  1.1073 0.089195 0.66438 0.053517\n",
      "ABELL_2597 0.00757 0.01514 0.065628 ... 0.70704 0.056622 0.42422 0.033973\n",
      "ABELL_2597     0.0 0.00757 0.084861 ... 0.50907 0.041211 0.30544 0.024727\n"
     ]
    }
   ],
   "source": [
    "data = rainmaker.rainmaker_notebook_init(filename, cluster_name)\n"
   ]
  },
  {
   "cell_type": "code",
   "execution_count": 4,
   "metadata": {
    "collapsed": true
   },
   "outputs": [],
   "source": [
    "def plotter(x, y):\n",
    "    plt.rcParams.update({'font.size': 22,\n",
    "                         'axes.labelsize': 20,\n",
    "                         'legend.fontsize': 16,\n",
    "                         'xtick.labelsize': 18,\n",
    "                         'ytick.labelsize': 18,\n",
    "                         'axes.linewidth': 2})\n",
    "    \n",
    "    fig, ax = plt.subplots()\n",
    "    ax.plot(x, y, 'b--',marker='s', label=r\"$y = \\alpha^2$\")\n",
    "    "
   ]
  },
  {
   "cell_type": "code",
   "execution_count": 5,
   "metadata": {
    "collapsed": true
   },
   "outputs": [],
   "source": [
    "def make_number_ordinal(num):\n",
    "    '''Take number, turn into ordinal. E.g., \"2\" --> \"2nd\" '''\n",
    "\n",
    "    SUFFIXES = {1: 'st', 2: 'nd', 3: 'rd'}\n",
    "\n",
    "    if 10 <= num % 100 <= 20:\n",
    "        suffix = 'th'\n",
    "    else:\n",
    "        # the second parameter is a default.\n",
    "        suffix = SUFFIXES.get(num % 10, 'th')\n",
    "    return str(num) + suffix\n"
   ]
  },
  {
   "cell_type": "code",
   "execution_count": 7,
   "metadata": {
    "collapsed": false
   },
   "outputs": [
    {
     "data": {
      "image/png": "[encoded data removed]",
      "text/plain": [
       "<matplotlib.figure.Figure at 0x7fb7d300eef0>"
      ]
     },
     "metadata": {},
     "output_type": "display_data"
    }
   ],
   "source": [
    "plotter(data['Rin'],data['Tx'])"
   ]
  },
  {
   "cell_type": "code",
   "execution_count": 26,
   "metadata": {
    "collapsed": true
   },
   "outputs": [],
   "source": [
    "def fit_polynomial(x, y, deg, yerror, whatIsFit):\n",
    "    '''\n",
    "    Fits a DEG-order polynomial in x, y space.\n",
    "    A 3rd order polynomial is a cubic function\n",
    "    '''\n",
    "\n",
    "    print(\"-----------------------------------------------------\")\n",
    "    print(\"Fitting \" + make_number_ordinal(deg) + \" order polynomial to \" + whatIsFit )\n",
    "    print(\"-----------------------------------------------------\")\n",
    "\n",
    "    coeffs, covariance = np.polyfit(x, y, deg, w=yerror, full=False, cov=True)\n",
    "\n",
    "    #chi2 = np.sum((np.polyval(coeffs, x) - y)**2)\n",
    "\n",
    "    print(coeffs)\n",
    "    print(covariance)\n",
    "    return coeffs"
   ]
  },
  {
   "cell_type": "code",
   "execution_count": 56,
   "metadata": {
    "collapsed": true
   },
   "outputs": [],
   "source": [
    "\n",
    "def logTemp_fit(data):\n",
    "    '''\n",
    "    Fit the logarithmic electron density profile ln(n_e) (in cm^-3)\n",
    "    to a polynomial in log r (in Mpc) of degree 'deg'.\n",
    "    The array 'coeffs' returns the coefficients of that polynomial fit.\n",
    "    '''\n",
    "    whatIsFit = \"ln kT (keV) in log radius (Mpc) of degree DEG\"\n",
    "\n",
    "    deg = 3\n",
    "\n",
    "    r = (data['Rin'] + data['Rout']) * 0.5\n",
    "    logr = np.log(r) # this is the NATURAL logarithm, ln\n",
    "\n",
    "    t = np.absolute(data['Tx'])\n",
    "    terr = data['Txerr']\n",
    "    \n",
    "    logt = np.log(t)\n",
    "    logterr = np.log(terr / t)\n",
    "\n",
    "    yerror = logterr\n",
    "\n",
    "    coeffs = fit_polynomial(logr, logt, deg, yerror, whatIsFit)\n",
    "\n",
    "    logtfit = np.zeros(np.shape(logr))\n",
    "\n",
    "    for i in np.arange(deg+1):\n",
    "        print(\"INDEX IS: %s\" % i)\n",
    "        logtfit = logtfit + coeffs[i]*logr**float(i)\n",
    "        print(logtfit)\n",
    "\n",
    "    tfit = np.exp(logtfit)\n",
    "    \n",
    "    #plt.scatter(r,data['Tx'], marker='o')\n",
    "    plt.plot(r,tfit)\n",
    "    plt.show()\n",
    "\n",
    "    return coeffs"
   ]
  },
  {
   "cell_type": "code",
   "execution_count": 57,
   "metadata": {
    "collapsed": false
   },
   "outputs": [
    {
     "name": "stdout",
     "output_type": "stream",
     "text": [
      "-----------------------------------------------------\n",
      "Fitting 3rd order polynomial to ln kT (keV) in log radius (Mpc) of degree DEG\n",
      "-----------------------------------------------------\n",
      "[-0.03910386 -0.43712524 -1.3441657   0.17799352]\n",
      "[[  5.48210608e-04   6.51989590e-03   2.47411201e-02   2.99994499e-02]\n",
      " [  6.51989590e-03   7.78293621e-02   2.96502483e-01   3.60892917e-01]\n",
      " [  2.47411201e-02   2.96502483e-01   1.13451797e+00   1.38699650e+00]\n",
      " [  2.99994499e-02   3.60892917e-01   1.38699650e+00   1.70363471e+00]]\n",
      "INDEX IS: 0\n",
      "      Rin       \n",
      "----------------\n",
      "-0.0391038559261\n",
      "-0.0391038559261\n",
      "-0.0391038559261\n",
      "-0.0391038559261\n",
      "-0.0391038559261\n",
      "-0.0391038559261\n",
      "-0.0391038559261\n",
      "-0.0391038559261\n",
      "-0.0391038559261\n",
      "-0.0391038559261\n",
      "-0.0391038559261\n",
      "-0.0391038559261\n",
      "INDEX IS: 1\n",
      "     Rin     \n",
      "-------------\n",
      "1.02793759589\n",
      "1.06772397715\n",
      "1.11146719461\n",
      "1.16007957684\n",
      "1.21478248901\n",
      "1.27732363653\n",
      " 1.3503310443\n",
      "1.43802594489\n",
      "1.54792764194\n",
      " 1.6950906326\n",
      " 1.9183854048\n",
      "2.39861656261\n",
      "INDEX IS: 2\n",
      "     Rin      \n",
      "--------------\n",
      " -6.9815296074\n",
      "-7.55017083342\n",
      "-8.20106807514\n",
      "-8.95600112451\n",
      "-9.84527517233\n",
      "-10.9135528905\n",
      "-12.2302218773\n",
      "-13.9109132465\n",
      " -16.169967946\n",
      "-19.4610599122\n",
      "-25.0366447261\n",
      "-39.4045167882\n",
      "INDEX IS: 3\n",
      "     Rin      \n",
      "--------------\n",
      "-9.57051985144\n",
      "-10.4396978276\n",
      "-11.4469062868\n",
      "-12.6308831434\n",
      "-14.0463562149\n",
      "-15.7751321633\n",
      "-17.9463394257\n",
      "-20.7791067293\n",
      "-24.6880766863\n",
      "-30.5753043974\n",
      "-41.0206165474\n",
      "-70.2746302749\n"
     ]
    },
    {
     "data": {
      "image/png": "[encoded data removed]",
      "text/plain": [
       "<matplotlib.figure.Figure at 0x7fcaffc41e80>"
      ]
     },
     "metadata": {},
     "output_type": "display_data"
    },
    {
     "data": {
      "text/plain": [
       "array([-0.03910386, -0.43712524, -1.3441657 ,  0.17799352])"
      ]
     },
     "execution_count": 57,
     "metadata": {},
     "output_type": "execute_result"
    }
   ],
   "source": [
    "logTemp_fit(data)"
   ]
  },
  {
   "cell_type": "code",
   "execution_count": null,
   "metadata": {
    "collapsed": true
   },
   "outputs": [],
   "source": [
    "; Routine RG_DATA determines the gravitational potential corresponding to\n",
    ";  fits (PFIT and TFIT) to the ACCEPT pressure and temperature profiles.\n",
    ";  RG gives the potential as the radius times the gravitational \n",
    ";  acceleration in cgs units.\n",
    "\n",
    "\n"
   ]
  },
  {
   "cell_type": "markdown",
   "metadata": {
    "collapsed": true
   },
   "source": [
    "The cooling function is:\n",
    "\n",
    "$\\Lambda(T) = [C_1 \\left( \\frac{k_B T}{\\mathrm{keV}} \\right)^{-1.7} + C_2\\left( \\frac{k_B T}{\\mathrm{keV}} \\right)^{0.5} + C_3] \\times 10^{-22}$"
   ]
  },
  {
   "cell_type": "code",
   "execution_count": 9,
   "metadata": {
    "collapsed": false
   },
   "outputs": [
    {
     "data": {
      "text/latex": [
       "$0.0086 \\; \\mathrm{\\frac{erg}{s\\,cm^{3}}}$"
      ],
      "text/plain": [
       "<Quantity 0.0086 erg / (cm3 s)>"
      ]
     },
     "execution_count": 9,
     "metadata": {},
     "output_type": "execute_result"
    }
   ],
   "source": [
    "import astropy.units as u\n",
    "8.6e-3 * (u.erg / (u.cm**3 * u.s))"
   ]
  },
  {
   "cell_type": "code",
   "execution_count": 33,
   "metadata": {
    "collapsed": false
   },
   "outputs": [],
   "source": [
    "def coolingFunction(kT_keV):\n",
    "    '''\n",
    "    Implement the Tozzi & Norman (2001) cooling function, \n",
    "    as shown in Parrish+\n",
    "    '''\n",
    "    \n",
    "    kT_keV = kT_keV * u.keV\n",
    "    \n",
    "    # For a metallicity of Z = 0.3 Z_solar, \n",
    "    C1 = 8.6e-3 * u.erg / (u.cm**3 * u.s)\n",
    "    C2 = 5.8e-3 * u.erg / (u.cm**3 * u.s)\n",
    "    C3 = 6.3e-2 * u.erg / (u.cm**3 * u.s)\n",
    "\n",
    "    alpha = -1.7\n",
    "    beta = 0.5\n",
    "\n",
    "    coolingFunc = ((C1 * kT_keV**alpha) + (C2 * kT_keV**beta) + C3)**1e-22\n",
    "\n",
    "    return coolingFunc\n"
   ]
  },
  {
   "cell_type": "code",
   "execution_count": 34,
   "metadata": {
    "collapsed": false
   },
   "outputs": [
    {
     "ename": "UnitConversionError",
     "evalue": "Can only apply 'add' function to quantities with compatible dimensions",
     "output_type": "error",
     "traceback": [
      "\u001b[0;31m---------------------------------------------------------------------------\u001b[0m",
      "\u001b[0;31mUnitConversionError\u001b[0m                       Traceback (most recent call last)",
      "\u001b[0;32m/home/grant/Repository/anaconda/lib/python3.5/site-packages/astropy/units/quantity_helper.py\u001b[0m in \u001b[0;36mget_converter\u001b[0;34m(from_unit, to_unit)\u001b[0m\n\u001b[1;32m     21\u001b[0m     \u001b[0;32mtry\u001b[0m\u001b[0;34m:\u001b[0m\u001b[0;34m\u001b[0m\u001b[0m\n\u001b[0;32m---> 22\u001b[0;31m         \u001b[0mscale\u001b[0m \u001b[0;34m=\u001b[0m \u001b[0mfrom_unit\u001b[0m\u001b[0;34m.\u001b[0m\u001b[0m_to\u001b[0m\u001b[0;34m(\u001b[0m\u001b[0mto_unit\u001b[0m\u001b[0;34m)\u001b[0m\u001b[0;34m\u001b[0m\u001b[0m\n\u001b[0m\u001b[1;32m     23\u001b[0m     \u001b[0;32mexcept\u001b[0m \u001b[0mUnitsError\u001b[0m\u001b[0;34m:\u001b[0m\u001b[0;34m\u001b[0m\u001b[0m\n",
      "\u001b[0;32m/home/grant/Repository/anaconda/lib/python3.5/site-packages/astropy/units/core.py\u001b[0m in \u001b[0;36m_to\u001b[0;34m(self, other)\u001b[0m\n\u001b[1;32m    955\u001b[0m         raise UnitConversionError(\n\u001b[0;32m--> 956\u001b[0;31m             \"'{0!r}' is not a scaled version of '{1!r}'\".format(self, other))\n\u001b[0m\u001b[1;32m    957\u001b[0m \u001b[0;34m\u001b[0m\u001b[0m\n",
      "\u001b[0;31mUnitConversionError\u001b[0m: 'Unit(\"erg keV(1/2) / (cm3 s)\")' is not a scaled version of 'Unit(\"erg / (cm3 keV(17/10) s)\")'",
      "\nDuring handling of the above exception, another exception occurred:\n",
      "\u001b[0;31mUnitConversionError\u001b[0m                       Traceback (most recent call last)",
      "\u001b[0;32m/home/grant/Repository/anaconda/lib/python3.5/site-packages/astropy/units/quantity_helper.py\u001b[0m in \u001b[0;36mget_converters_and_unit\u001b[0;34m(f, *units)\u001b[0m\n\u001b[1;32m    279\u001b[0m             converters[changeable] = get_converter(units[changeable],\n\u001b[0;32m--> 280\u001b[0;31m                                                    units[fixed])\n\u001b[0m\u001b[1;32m    281\u001b[0m         \u001b[0;32mexcept\u001b[0m \u001b[0mUnitsError\u001b[0m\u001b[0;34m:\u001b[0m\u001b[0;34m\u001b[0m\u001b[0m\n",
      "\u001b[0;32m/home/grant/Repository/anaconda/lib/python3.5/site-packages/astropy/units/quantity_helper.py\u001b[0m in \u001b[0;36mget_converter\u001b[0;34m(from_unit, to_unit)\u001b[0m\n\u001b[1;32m     24\u001b[0m         return from_unit._apply_equivalencies(\n\u001b[0;32m---> 25\u001b[0;31m                 from_unit, to_unit, get_current_unit_registry().equivalencies)\n\u001b[0m\u001b[1;32m     26\u001b[0m     \u001b[0;32mif\u001b[0m \u001b[0mscale\u001b[0m \u001b[0;34m==\u001b[0m \u001b[0;36m1.\u001b[0m\u001b[0;34m:\u001b[0m\u001b[0;34m\u001b[0m\u001b[0m\n",
      "\u001b[0;32m/home/grant/Repository/anaconda/lib/python3.5/site-packages/astropy/units/core.py\u001b[0m in \u001b[0;36m_apply_equivalencies\u001b[0;34m(self, unit, other, equivalencies)\u001b[0m\n\u001b[1;32m    860\u001b[0m             \"{0} and {1} are not convertible\".format(\n\u001b[0;32m--> 861\u001b[0;31m                 unit_str, other_str))\n\u001b[0m\u001b[1;32m    862\u001b[0m \u001b[0;34m\u001b[0m\u001b[0m\n",
      "\u001b[0;31mUnitConversionError\u001b[0m: 'erg keV(1/2) / (cm3 s)' and 'erg / (cm3 keV(17/10) s)' are not convertible",
      "\nDuring handling of the above exception, another exception occurred:\n",
      "\u001b[0;31mUnitConversionError\u001b[0m                       Traceback (most recent call last)",
      "\u001b[0;32m<ipython-input-34-cbc3d94e0329>\u001b[0m in \u001b[0;36m<module>\u001b[0;34m()\u001b[0m\n\u001b[0;32m----> 1\u001b[0;31m \u001b[0mstuff\u001b[0m \u001b[0;34m=\u001b[0m \u001b[0mcoolingFunction\u001b[0m\u001b[0;34m(\u001b[0m\u001b[0mdata\u001b[0m\u001b[0;34m[\u001b[0m\u001b[0;34m'Tx'\u001b[0m\u001b[0;34m]\u001b[0m\u001b[0;34m)\u001b[0m\u001b[0;34m\u001b[0m\u001b[0m\n\u001b[0m",
      "\u001b[0;32m<ipython-input-33-4ad1182f6488>\u001b[0m in \u001b[0;36mcoolingFunction\u001b[0;34m(kT_keV)\u001b[0m\n\u001b[1;32m     15\u001b[0m     \u001b[0mbeta\u001b[0m \u001b[0;34m=\u001b[0m \u001b[0;36m0.5\u001b[0m\u001b[0;34m\u001b[0m\u001b[0m\n\u001b[1;32m     16\u001b[0m \u001b[0;34m\u001b[0m\u001b[0m\n\u001b[0;32m---> 17\u001b[0;31m     \u001b[0mcoolingFunc\u001b[0m \u001b[0;34m=\u001b[0m \u001b[0;34m(\u001b[0m\u001b[0;34m(\u001b[0m\u001b[0mC1\u001b[0m \u001b[0;34m*\u001b[0m \u001b[0mkT_keV\u001b[0m\u001b[0;34m**\u001b[0m\u001b[0malpha\u001b[0m\u001b[0;34m)\u001b[0m \u001b[0;34m+\u001b[0m \u001b[0;34m(\u001b[0m\u001b[0mC2\u001b[0m \u001b[0;34m*\u001b[0m \u001b[0mkT_keV\u001b[0m\u001b[0;34m**\u001b[0m\u001b[0mbeta\u001b[0m\u001b[0;34m)\u001b[0m \u001b[0;34m+\u001b[0m \u001b[0mC3\u001b[0m\u001b[0;34m)\u001b[0m\u001b[0;34m**\u001b[0m\u001b[0;36m1e-22\u001b[0m\u001b[0;34m\u001b[0m\u001b[0m\n\u001b[0m\u001b[1;32m     18\u001b[0m \u001b[0;34m\u001b[0m\u001b[0m\n\u001b[1;32m     19\u001b[0m     \u001b[0;32mreturn\u001b[0m \u001b[0mcoolingFunc\u001b[0m\u001b[0;34m\u001b[0m\u001b[0m\n",
      "\u001b[0;32m/home/grant/Repository/anaconda/lib/python3.5/site-packages/astropy/units/quantity.py\u001b[0m in \u001b[0;36m__array_prepare__\u001b[0;34m(self, obj, context)\u001b[0m\n\u001b[1;32m    321\u001b[0m         \u001b[0;31m# the unit the output from the ufunc will have.\u001b[0m\u001b[0;34m\u001b[0m\u001b[0;34m\u001b[0m\u001b[0m\n\u001b[1;32m    322\u001b[0m         \u001b[0;32mif\u001b[0m \u001b[0mfunction\u001b[0m \u001b[0;32min\u001b[0m \u001b[0mUFUNC_HELPERS\u001b[0m\u001b[0;34m:\u001b[0m\u001b[0;34m\u001b[0m\u001b[0m\n\u001b[0;32m--> 323\u001b[0;31m             \u001b[0mconverters\u001b[0m\u001b[0;34m,\u001b[0m \u001b[0mresult_unit\u001b[0m \u001b[0;34m=\u001b[0m \u001b[0mUFUNC_HELPERS\u001b[0m\u001b[0;34m[\u001b[0m\u001b[0mfunction\u001b[0m\u001b[0;34m]\u001b[0m\u001b[0;34m(\u001b[0m\u001b[0mfunction\u001b[0m\u001b[0;34m,\u001b[0m \u001b[0;34m*\u001b[0m\u001b[0munits\u001b[0m\u001b[0;34m)\u001b[0m\u001b[0;34m\u001b[0m\u001b[0m\n\u001b[0m\u001b[1;32m    324\u001b[0m         \u001b[0;32melse\u001b[0m\u001b[0;34m:\u001b[0m\u001b[0;34m\u001b[0m\u001b[0m\n\u001b[1;32m    325\u001b[0m             raise TypeError(\"Unknown ufunc {0}.  Please raise issue on \"\n",
      "\u001b[0;32m/home/grant/Repository/anaconda/lib/python3.5/site-packages/astropy/units/quantity_helper.py\u001b[0m in \u001b[0;36mhelper_twoarg_invariant\u001b[0;34m(f, unit1, unit2)\u001b[0m\n\u001b[1;32m    289\u001b[0m \u001b[0;34m\u001b[0m\u001b[0m\n\u001b[1;32m    290\u001b[0m \u001b[0;32mdef\u001b[0m \u001b[0mhelper_twoarg_invariant\u001b[0m\u001b[0;34m(\u001b[0m\u001b[0mf\u001b[0m\u001b[0;34m,\u001b[0m \u001b[0munit1\u001b[0m\u001b[0;34m,\u001b[0m \u001b[0munit2\u001b[0m\u001b[0;34m)\u001b[0m\u001b[0;34m:\u001b[0m\u001b[0;34m\u001b[0m\u001b[0m\n\u001b[0;32m--> 291\u001b[0;31m     \u001b[0;32mreturn\u001b[0m \u001b[0mget_converters_and_unit\u001b[0m\u001b[0;34m(\u001b[0m\u001b[0mf\u001b[0m\u001b[0;34m,\u001b[0m \u001b[0munit1\u001b[0m\u001b[0;34m,\u001b[0m \u001b[0munit2\u001b[0m\u001b[0;34m)\u001b[0m\u001b[0;34m\u001b[0m\u001b[0m\n\u001b[0m\u001b[1;32m    292\u001b[0m \u001b[0;34m\u001b[0m\u001b[0m\n\u001b[1;32m    293\u001b[0m \u001b[0mUFUNC_HELPERS\u001b[0m\u001b[0;34m[\u001b[0m\u001b[0mnp\u001b[0m\u001b[0;34m.\u001b[0m\u001b[0madd\u001b[0m\u001b[0;34m]\u001b[0m \u001b[0;34m=\u001b[0m \u001b[0mhelper_twoarg_invariant\u001b[0m\u001b[0;34m\u001b[0m\u001b[0m\n",
      "\u001b[0;32m/home/grant/Repository/anaconda/lib/python3.5/site-packages/astropy/units/quantity_helper.py\u001b[0m in \u001b[0;36mget_converters_and_unit\u001b[0;34m(f, *units)\u001b[0m\n\u001b[1;32m    283\u001b[0m                 \u001b[0;34m\"Can only apply '{0}' function to quantities \"\u001b[0m\u001b[0;34m\u001b[0m\u001b[0m\n\u001b[1;32m    284\u001b[0m                 \u001b[0;34m\"with compatible dimensions\"\u001b[0m\u001b[0;34m\u001b[0m\u001b[0m\n\u001b[0;32m--> 285\u001b[0;31m                 .format(f.__name__))\n\u001b[0m\u001b[1;32m    286\u001b[0m \u001b[0;34m\u001b[0m\u001b[0m\n\u001b[1;32m    287\u001b[0m         \u001b[0;32mreturn\u001b[0m \u001b[0mconverters\u001b[0m\u001b[0;34m,\u001b[0m \u001b[0munits\u001b[0m\u001b[0;34m[\u001b[0m\u001b[0mfixed\u001b[0m\u001b[0;34m]\u001b[0m\u001b[0;34m\u001b[0m\u001b[0m\n",
      "\u001b[0;31mUnitConversionError\u001b[0m: Can only apply 'add' function to quantities with compatible dimensions"
     ]
    }
   ],
   "source": [
    "stuff = coolingFunction(data['Tx'])"
   ]
  },
  {
   "cell_type": "code",
   "execution_count": 27,
   "metadata": {
    "collapsed": false
   },
   "outputs": [
    {
     "data": {
      "text/latex": [
       "$[1,~1,~1,~1,~1,~1,~1,~1,~1,~1,~1,~1] \\; \\mathrm{}$"
      ],
      "text/plain": [
       "<Quantity [ 1., 1., 1., 1., 1., 1., 1., 1., 1., 1., 1., 1.]>"
      ]
     },
     "execution_count": 27,
     "metadata": {},
     "output_type": "execute_result"
    }
   ],
   "source": [
    "stuff"
   ]
  },
  {
   "cell_type": "code",
   "execution_count": 28,
   "metadata": {
    "collapsed": false
   },
   "outputs": [
    {
     "data": {
      "text/html": [
       "&lt;Column name=&apos;Tx&apos; dtype=&apos;float64&apos; length=12&gt;\n",
       "<table>\n",
       "<tr><td>4.0052</td></tr>\n",
       "<tr><td>3.9491</td></tr>\n",
       "<tr><td>4.2416</td></tr>\n",
       "<tr><td>4.2094</td></tr>\n",
       "<tr><td>4.0748</td></tr>\n",
       "<tr><td>3.8184</td></tr>\n",
       "<tr><td>3.5377</td></tr>\n",
       "<tr><td>3.2308</td></tr>\n",
       "<tr><td>3.1708</td></tr>\n",
       "<tr><td>3.0181</td></tr>\n",
       "<tr><td>2.5829</td></tr>\n",
       "<tr><td>2.36</td></tr>\n",
       "</table>"
      ],
      "text/plain": [
       "<Column name='Tx' dtype='float64' length=12>\n",
       "4.0052\n",
       "3.9491\n",
       "4.2416\n",
       "4.2094\n",
       "4.0748\n",
       "3.8184\n",
       "3.5377\n",
       "3.2308\n",
       "3.1708\n",
       "3.0181\n",
       "2.5829\n",
       "  2.36"
      ]
     },
     "execution_count": 28,
     "metadata": {},
     "output_type": "execute_result"
    }
   ],
   "source": [
    "data['Tx']"
   ]
  },
  {
   "cell_type": "code",
   "execution_count": 29,
   "metadata": {
    "collapsed": false
   },
   "outputs": [
    {
     "data": {
      "text/plain": [
       "[<matplotlib.lines.Line2D at 0x7fb7a63677f0>]"
      ]
     },
     "execution_count": 29,
     "metadata": {},
     "output_type": "execute_result"
    },
    {
     "data": {
      "image/png": "[encoded data removed]",
      "text/plain": [
       "<matplotlib.figure.Figure at 0x7fb7a4dd2198>"
      ]
     },
     "metadata": {},
     "output_type": "display_data"
    }
   ],
   "source": [
    "plt.plot(data['Rin'],stuff)"
   ]
  },
  {
   "cell_type": "code",
   "execution_count": 48,
   "metadata": {
    "collapsed": false
   },
   "outputs": [],
   "source": [
    "def coolingFunction(kT):\n",
    "    '''\n",
    "    Implement the Tozzi & Norman (2001) cooling function,\n",
    "    as shown in Parrish, Quataert, & Sharma (2009) eq. 16. \n",
    "\n",
    "    $\\Lambda(T) = [C_1(k_B T)^{-1.7} + C_2(k_B T)^{0.5} + C_3] \\times 10^{-22}$\n",
    "    '''\n",
    "\n",
    "    keV = u.eV * 1000.0\n",
    "    kT_keV = kT * keV\n",
    "\n",
    "    # For a metallicity of Z = 0.3 Z_solar, \n",
    "    C1 = 8.6e-3 * u.erg / (u.cm**3 * u.s)\n",
    "    C2 = 5.8e-3 * u.erg / (u.cm**3 * u.s)\n",
    "    C3 = 6.3e-2 * u.erg / (u.cm**3 * u.s)\n",
    "\n",
    "    alpha = -1.7\n",
    "    beta = 0.5\n",
    "\n",
    "    coolingFunction = ((C1 * (kT_keV / keV)**alpha) + (C2 * (kT_keV / keV)**beta) + C3)*1e-22\n",
    "\n",
    "    return coolingFunction"
   ]
  },
  {
   "cell_type": "code",
   "execution_count": 49,
   "metadata": {
    "collapsed": false
   },
   "outputs": [],
   "source": [
    "test = coolingFunction(data['Tx'])"
   ]
  },
  {
   "cell_type": "code",
   "execution_count": 50,
   "metadata": {
    "collapsed": false
   },
   "outputs": [
    {
     "data": {
      "text/latex": [
       "$[7.5420438 \\times 10^{-24},~7.5358588 \\times 10^{-24},~7.5682575 \\times 10^{-24},~7.5646763 \\times 10^{-24},~7.5497395 \\times 10^{-24},~7.5215279 \\times 10^{-24},~7.4912948 \\times 10^{-24},~7.4596476 \\times 10^{-24},~7.4537146 \\times 10^{-24},~7.4391232 \\times 10^{-24},~7.4035038 \\times 10^{-24},~7.3907911 \\times 10^{-24}] \\; \\mathrm{\\frac{erg}{s\\,cm^{3}}}$"
      ],
      "text/plain": [
       "<Quantity [  7.54204379e-24,  7.53585879e-24,  7.56825753e-24,\n",
       "             7.56467630e-24,  7.54973951e-24,  7.52152792e-24,\n",
       "             7.49129483e-24,  7.45964758e-24,  7.45371463e-24,\n",
       "             7.43912315e-24,  7.40350379e-24,  7.39079108e-24] erg / (cm3 s)>"
      ]
     },
     "execution_count": 50,
     "metadata": {},
     "output_type": "execute_result"
    }
   ],
   "source": [
    "test"
   ]
  },
  {
   "cell_type": "code",
   "execution_count": 51,
   "metadata": {
    "collapsed": false
   },
   "outputs": [
    {
     "data": {
      "text/plain": [
       "[<matplotlib.lines.Line2D at 0x7fb7a492b6d8>]"
      ]
     },
     "execution_count": 51,
     "metadata": {},
     "output_type": "execute_result"
    },
    {
     "data": {
      "image/png": "[encoded data removed]",
      "text/plain": [
       "<matplotlib.figure.Figure at 0x7fb7a566c5c0>"
      ]
     },
     "metadata": {},
     "output_type": "display_data"
    }
   ],
   "source": [
    "plt.plot(data['Rin'],test)"
   ]
  },
  {
   "cell_type": "code",
   "execution_count": null,
   "metadata": {
    "collapsed": true
   },
   "outputs": [],
   "source": []
  }
 ],
 "metadata": {
  "anaconda-cloud": {},
  "kernelspec": {
   "display_name": "Python [Root]",
   "language": "python",
   "name": "Python [Root]"
  },
  "language_info": {
   "codemirror_mode": {
    "name": "ipython",
    "version": 3
   },
   "file_extension": ".py",
   "mimetype": "text/x-python",
   "name": "python",
   "nbconvert_exporter": "python",
   "pygments_lexer": "ipython3",
   "version": "3.5.2"
  }
 },
 "nbformat": 4,
 "nbformat_minor": 0
}
