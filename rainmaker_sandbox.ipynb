{
 "cells": [
  {
   "cell_type": "markdown",
   "metadata": {},
   "source": [
    "# Sandbox for development of Rainmaker\n",
    "\n",
    "G. R. Tremblay, August 2016"
   ]
  },
  {
   "cell_type": "code",
   "execution_count": 30,
   "metadata": {
    "collapsed": false
   },
   "outputs": [],
   "source": [
    "import sys, os\n",
    "import argparse\n",
    "import numpy as np\n",
    "from astropy.io import ascii\n",
    "import astropy.units as u\n",
    "import matplotlib.pyplot as plt\n",
    "%matlotlib inline"
   ]
  },
  {
   "cell_type": "markdown",
   "metadata": {},
   "source": [
    "Now we need to import rainmaker. Make sure this jupyter notebook is in the directory above the module, or that it is otherwise in your path! "
   ]
  },
  {
   "cell_type": "code",
   "execution_count": 2,
   "metadata": {
    "collapsed": false
   },
   "outputs": [],
   "source": [
    "from rainmaker import rainmaker"
   ]
  },
  {
   "cell_type": "code",
   "execution_count": 3,
   "metadata": {
    "collapsed": true
   },
   "outputs": [],
   "source": [
    "filename = \"rainmaker/accept_main_table.txt\"\n",
    "cluster_name_raw = \"test\""
   ]
  },
  {
   "cell_type": "markdown",
   "metadata": {},
   "source": [
    "The ACCEPT main table uses names (in the first column) that are written like \"ABELL_2597\", \"ZWICKY_2107\", etc. So simply ensure that the input cluster_name is in a format that will match that written in the ACCEPT table. This is easy: "
   ]
  },
  {
   "cell_type": "code",
   "execution_count": 4,
   "metadata": {
    "collapsed": false
   },
   "outputs": [
    {
     "data": {
      "text/plain": [
       "'TEST'"
      ]
     },
     "execution_count": 4,
     "metadata": {},
     "output_type": "execute_result"
    }
   ],
   "source": [
    "cluster_name = cluster_name_raw.replace(\" \",\"_\").upper()\n",
    "cluster_name"
   ]
  },
  {
   "cell_type": "code",
   "execution_count": 5,
   "metadata": {
    "collapsed": false
   },
   "outputs": [],
   "source": [
    "data = ascii.read(filename)"
   ]
  },
  {
   "cell_type": "code",
   "execution_count": 6,
   "metadata": {
    "collapsed": false
   },
   "outputs": [
    {
     "data": {
      "text/html": [
       "&lt;Table length=11164&gt;\n",
       "<table id=\"table140399735490880\" class=\"table-striped table-bordered table-condensed\">\n",
       "<thead><tr><th>Name</th><th>Rin</th><th>Rout</th><th>nelec</th><th>neerr</th><th>Kitpl</th><th>Kflat</th><th>Kerr</th><th>Pitpl</th><th>Pflat</th><th>Perr</th><th>Mgrav</th><th>Merr</th><th>Tx</th><th>Txerr</th><th>Lambda</th><th>tcool5/2</th><th>t52err</th><th>tcool3/2</th><th>t32err</th></tr></thead>\n",
       "<thead><tr><th>str18</th><th>float64</th><th>float64</th><th>float64</th><th>float64</th><th>float64</th><th>float64</th><th>float64</th><th>float64</th><th>float64</th><th>float64</th><th>float64</th><th>float64</th><th>float64</th><th>float64</th><th>float64</th><th>float64</th><th>float64</th><th>float64</th><th>float64</th></tr></thead>\n",
       "<tr><td>1E0657_56</td><td>1.1735</td><td>1.1945</td><td>0.00028571</td><td>1.9911e-05</td><td>2267.2</td><td>2267.2</td><td>631.23</td><td>4.552e-12</td><td>4.552e-12</td><td>1.2892e-12</td><td>6.4715e+15</td><td>1.3028e+15</td><td>10.116</td><td>2.9178</td><td>2.6682e-23</td><td>387.38</td><td>114.95</td><td>232.43</td><td>68.972</td></tr>\n",
       "<tr><td>1E0657_56</td><td>1.1526</td><td>1.1735</td><td>0.00037185</td><td>4.2443e-05</td><td>1858.2</td><td>1858.2</td><td>507.28</td><td>5.7884e-12</td><td>5.7884e-12</td><td>1.6551e-12</td><td>-4.3724e+14</td><td>-8.4063e+13</td><td>9.8517</td><td>2.7081</td><td>2.6265e-23</td><td>294.48</td><td>87.65</td><td>176.69</td><td>52.59</td></tr>\n",
       "<tr><td>1E0657_56</td><td>1.1316</td><td>1.1526</td><td>0.00036489</td><td>4.4078e-05</td><td>1837.6</td><td>1837.6</td><td>481.28</td><td>5.5467e-12</td><td>5.5467e-12</td><td>1.5362e-12</td><td>-1.6316e+15</td><td>-2.9819e+14</td><td>9.5879</td><td>2.4985</td><td>2.5848e-23</td><td>296.76</td><td>85.238</td><td>178.06</td><td>51.143</td></tr>\n",
       "<tr><td>1E0657_56</td><td>1.1107</td><td>1.1316</td><td>0.00033859</td><td>4.5086e-05</td><td>1885.0</td><td>1885.0</td><td>474.68</td><td>5.023e-12</td><td>5.023e-12</td><td>1.3596e-12</td><td>1.3382e+15</td><td>2.3126e+14</td><td>9.3241</td><td>2.2888</td><td>2.5431e-23</td><td>316.12</td><td>88.281</td><td>189.67</td><td>52.968</td></tr>\n",
       "<tr><td>1E0657_56</td><td>1.0897</td><td>1.1107</td><td>0.00045308</td><td>6.4837e-05</td><td>1514.1</td><td>1514.1</td><td>364.98</td><td>6.5557e-12</td><td>6.5557e-12</td><td>1.7281e-12</td><td>1.0413e+15</td><td>1.6906e+14</td><td>9.0603</td><td>2.0792</td><td>2.5014e-23</td><td>233.38</td><td>63.115</td><td>140.03</td><td>37.869</td></tr>\n",
       "<tr><td>1E0657_56</td><td>1.0687</td><td>1.0897</td><td>0.00041445</td><td>6.1114e-05</td><td>1617.1</td><td>1617.1</td><td>382.67</td><td>6.0356e-12</td><td>6.0356e-12</td><td>1.5748e-12</td><td>5.8555e+14</td><td>9.2427e+13</td><td>8.9078</td><td>1.9255</td><td>2.4739e-23</td><td>253.63</td><td>66.367</td><td>152.18</td><td>39.82</td></tr>\n",
       "<tr><td>1E0657_56</td><td>1.0478</td><td>1.0687</td><td>0.00045547</td><td>5.2383e-05</td><td>1550.6</td><td>1550.6</td><td>351.28</td><td>6.7727e-12</td><td>6.7727e-12</td><td>1.6405e-12</td><td>1.3875e+15</td><td>2.1692e+14</td><td>9.1061</td><td>1.9484</td><td>2.4907e-23</td><td>234.34</td><td>56.925</td><td>140.6</td><td>34.155</td></tr>\n",
       "<tr><td>1E0657_56</td><td>1.0268</td><td>1.0478</td><td>0.00044569</td><td>8.4556e-05</td><td>1605.6</td><td>1605.6</td><td>395.28</td><td>6.7641e-12</td><td>6.7641e-12</td><td>1.9204e-12</td><td>3.0516e+14</td><td>4.7265e+13</td><td>9.3045</td><td>1.9713</td><td>2.5075e-23</td><td>243.06</td><td>69.123</td><td>145.83</td><td>41.474</td></tr>\n",
       "<tr><td>1E0657_56</td><td>1.0059</td><td>1.0268</td><td>0.00054898</td><td>4.9973e-05</td><td>1425.6</td><td>1425.6</td><td>310.67</td><td>8.5003e-12</td><td>8.5003e-12</td><td>1.9401e-12</td><td>8.5383e+14</td><td>1.3106e+14</td><td>9.5028</td><td>1.9942</td><td>2.5243e-23</td><td>200.19</td><td>45.792</td><td>120.11</td><td>27.475</td></tr>\n",
       "<tr><td>1E0657_56</td><td>0.98492</td><td>1.0059</td><td>0.0004504</td><td>7.0179e-05</td><td>1658.9</td><td>1658.9</td><td>384.92</td><td>7.1121e-12</td><td>7.1121e-12</td><td>1.8454e-12</td><td>3.8705e+14</td><td>5.8891e+13</td><td>9.7011</td><td>2.017</td><td>2.5411e-23</td><td>247.45</td><td>64.293</td><td>148.47</td><td>38.576</td></tr>\n",
       "<tr><td>...</td><td>...</td><td>...</td><td>...</td><td>...</td><td>...</td><td>...</td><td>...</td><td>...</td><td>...</td><td>...</td><td>...</td><td>...</td><td>...</td><td>...</td><td>...</td><td>...</td><td>...</td><td>...</td><td>...</td></tr>\n",
       "<tr><td>ZWICKY_2701</td><td>0.15248</td><td>0.16942</td><td>0.0023933</td><td>0.00027729</td><td>278.15</td><td>278.15</td><td>38.542</td><td>1.9296e-11</td><td>1.9296e-11</td><td>3.1505e-12</td><td>5.616e+13</td><td>4.7379e+12</td><td>5.1423</td><td>0.57538</td><td>2.0468e-23</td><td>30.645</td><td>4.936</td><td>18.387</td><td>2.9616</td></tr>\n",
       "<tr><td>ZWICKY_2701</td><td>0.13554</td><td>0.15248</td><td>0.0023482</td><td>0.00056384</td><td>278.46</td><td>278.46</td><td>55.077</td><td>1.8714e-11</td><td>1.8714e-11</td><td>4.9919e-12</td><td>4.5918e+13</td><td>3.9122e+12</td><td>5.0513</td><td>0.57381</td><td>2.0195e-23</td><td>31.097</td><td>8.2602</td><td>18.658</td><td>4.9561</td></tr>\n",
       "<tr><td>ZWICKY_2701</td><td>0.11859</td><td>0.13554</td><td>0.0033211</td><td>0.00023398</td><td>218.43</td><td>218.43</td><td>27.609</td><td>2.6159e-11</td><td>2.6159e-11</td><td>3.5804e-12</td><td>3.0727e+13</td><td>2.6442e+12</td><td>4.9602</td><td>0.57225</td><td>1.9921e-23</td><td>21.887</td><td>2.9587</td><td>13.132</td><td>1.7752</td></tr>\n",
       "<tr><td>ZWICKY_2701</td><td>0.10165</td><td>0.11859</td><td>0.0043968</td><td>0.00039302</td><td>181.37</td><td>181.37</td><td>24.43</td><td>3.4671e-11</td><td>3.4671e-11</td><td>5.2102e-12</td><td>3.9089e+13</td><td>3.4627e+12</td><td>4.8692</td><td>0.57068</td><td>1.9648e-23</td><td>16.455</td><td>2.4254</td><td>9.8729</td><td>1.4553</td></tr>\n",
       "<tr><td>ZWICKY_2701</td><td>0.08471</td><td>0.10165</td><td>0.0051163</td><td>0.00041461</td><td>166.82</td><td>166.82</td><td>23.022</td><td>4.1056e-11</td><td>4.1056e-11</td><td>6.1846e-12</td><td>2.7052e+13</td><td>2.5191e+12</td><td>4.8899</td><td>0.59865</td><td>1.9791e-23</td><td>14.098</td><td>2.0698</td><td>8.4589</td><td>1.2419</td></tr>\n",
       "<tr><td>ZWICKY_2701</td><td>0.06777</td><td>0.08471</td><td>0.005558</td><td>0.00040981</td><td>160.6</td><td>160.6</td><td>22.766</td><td>4.5372e-11</td><td>4.5372e-11</td><td>6.8982e-12</td><td>1.7713e+13</td><td>1.7271e+12</td><td>4.9952</td><td>0.64899</td><td>2.0249e-23</td><td>12.957</td><td>1.9357</td><td>7.7744</td><td>1.1614</td></tr>\n",
       "<tr><td>ZWICKY_2701</td><td>0.05083</td><td>0.06777</td><td>0.010082</td><td>0.00038626</td><td>98.837</td><td>98.837</td><td>12.457</td><td>7.5341e-11</td><td>7.5341e-11</td><td>9.736e-12</td><td>1.1668e+13</td><td>1.056e+12</td><td>4.7821</td><td>0.61122</td><td>2.0241e-23</td><td>6.8411</td><td>0.91282</td><td>4.1047</td><td>0.54769</td></tr>\n",
       "<tr><td>ZWICKY_2701</td><td>0.03388</td><td>0.05083</td><td>0.013649</td><td>0.00032374</td><td>70.493</td><td>70.493</td><td>7.4957</td><td>8.9018e-11</td><td>8.9018e-11</td><td>9.5954e-12</td><td>7.586e+12</td><td>584950000000.0</td><td>4.0584</td><td>0.43209</td><td>1.9484e-23</td><td>4.4554</td><td>0.48598</td><td>2.6732</td><td>0.29159</td></tr>\n",
       "<tr><td>ZWICKY_2701</td><td>0.01694</td><td>0.03388</td><td>0.016371</td><td>0.00037196</td><td>54.812</td><td>54.812</td><td>4.523</td><td>9.3728e-11</td><td>9.3728e-11</td><td>7.8955e-12</td><td>1.86e+12</td><td>110640000000.0</td><td>3.6982</td><td>0.33227</td><td>2.0133e-23</td><td>3.2755</td><td>0.30356</td><td>1.9653</td><td>0.18214</td></tr>\n",
       "<tr><td>ZWICKY_2701</td><td>0.0</td><td>0.01694</td><td>0.021901</td><td>0.00036496</td><td>38.862</td><td>44.84</td><td>3.603</td><td>1.0793e-10</td><td>1.2453e-10</td><td>1.0096e-11</td><td>800510000000.0</td><td>54034000000.0</td><td>3.51</td><td>0.28</td><td>2.0799e-23</td><td>2.2496</td><td>0.18333</td><td>1.3497</td><td>0.11</td></tr>\n",
       "</table>"
      ],
      "text/plain": [
       "<Table length=11164>\n",
       "    Name      Rin     Rout    nelec    ... tcool5/2  t52err tcool3/2  t32err\n",
       "   str18    float64 float64  float64   ... float64  float64 float64  float64\n",
       "----------- ------- ------- ---------- ... -------- ------- -------- -------\n",
       "  1E0657_56  1.1735  1.1945 0.00028571 ...   387.38  114.95   232.43  68.972\n",
       "  1E0657_56  1.1526  1.1735 0.00037185 ...   294.48   87.65   176.69   52.59\n",
       "  1E0657_56  1.1316  1.1526 0.00036489 ...   296.76  85.238   178.06  51.143\n",
       "  1E0657_56  1.1107  1.1316 0.00033859 ...   316.12  88.281   189.67  52.968\n",
       "  1E0657_56  1.0897  1.1107 0.00045308 ...   233.38  63.115   140.03  37.869\n",
       "  1E0657_56  1.0687  1.0897 0.00041445 ...   253.63  66.367   152.18   39.82\n",
       "  1E0657_56  1.0478  1.0687 0.00045547 ...   234.34  56.925    140.6  34.155\n",
       "  1E0657_56  1.0268  1.0478 0.00044569 ...   243.06  69.123   145.83  41.474\n",
       "  1E0657_56  1.0059  1.0268 0.00054898 ...   200.19  45.792   120.11  27.475\n",
       "  1E0657_56 0.98492  1.0059  0.0004504 ...   247.45  64.293   148.47  38.576\n",
       "        ...     ...     ...        ... ...      ...     ...      ...     ...\n",
       "ZWICKY_2701 0.15248 0.16942  0.0023933 ...   30.645   4.936   18.387  2.9616\n",
       "ZWICKY_2701 0.13554 0.15248  0.0023482 ...   31.097  8.2602   18.658  4.9561\n",
       "ZWICKY_2701 0.11859 0.13554  0.0033211 ...   21.887  2.9587   13.132  1.7752\n",
       "ZWICKY_2701 0.10165 0.11859  0.0043968 ...   16.455  2.4254   9.8729  1.4553\n",
       "ZWICKY_2701 0.08471 0.10165  0.0051163 ...   14.098  2.0698   8.4589  1.2419\n",
       "ZWICKY_2701 0.06777 0.08471   0.005558 ...   12.957  1.9357   7.7744  1.1614\n",
       "ZWICKY_2701 0.05083 0.06777   0.010082 ...   6.8411 0.91282   4.1047 0.54769\n",
       "ZWICKY_2701 0.03388 0.05083   0.013649 ...   4.4554 0.48598   2.6732 0.29159\n",
       "ZWICKY_2701 0.01694 0.03388   0.016371 ...   3.2755 0.30356   1.9653 0.18214\n",
       "ZWICKY_2701     0.0 0.01694   0.021901 ...   2.2496 0.18333   1.3497    0.11"
      ]
     },
     "execution_count": 6,
     "metadata": {},
     "output_type": "execute_result"
    }
   ],
   "source": [
    "data"
   ]
  },
  {
   "cell_type": "code",
   "execution_count": 7,
   "metadata": {
    "collapsed": false
   },
   "outputs": [],
   "source": [
    "# 'tcool5/2' is a bad column name. Change it if there. \n",
    "if 'tcool5/2' in data.columns:\n",
    "    data.rename_column('tcool5/2', 'tcool52')\n",
    "    \n",
    "# 'tcool3/2' is also a bad column name. Change it if there. \n",
    "if 'tcool3/2' in data.columns:\n",
    "    data.rename_column('tcool3/2', 'tcool32')"
   ]
  },
  {
   "cell_type": "code",
   "execution_count": 8,
   "metadata": {
    "collapsed": false
   },
   "outputs": [],
   "source": [
    "obs_by_name = data.group_by('Name')        \n",
    "clusters_in_table = obs_by_name.groups.keys"
   ]
  },
  {
   "cell_type": "code",
   "execution_count": 9,
   "metadata": {
    "collapsed": false
   },
   "outputs": [],
   "source": [
    "cluster_found = cluster_name in clusters_in_table['Name']"
   ]
  },
  {
   "cell_type": "code",
   "execution_count": 10,
   "metadata": {
    "collapsed": false
   },
   "outputs": [
    {
     "data": {
      "text/plain": [
       "False"
      ]
     },
     "execution_count": 10,
     "metadata": {},
     "output_type": "execute_result"
    }
   ],
   "source": [
    "cluster_found"
   ]
  },
  {
   "cell_type": "code",
   "execution_count": 11,
   "metadata": {
    "collapsed": false
   },
   "outputs": [
    {
     "data": {
      "text/plain": [
       "11164"
      ]
     },
     "execution_count": 11,
     "metadata": {},
     "output_type": "execute_result"
    }
   ],
   "source": [
    "len(data['Rin'])"
   ]
  },
  {
   "cell_type": "code",
   "execution_count": 12,
   "metadata": {
    "collapsed": false
   },
   "outputs": [
    {
     "data": {
      "text/latex": [
       "$[1.1735,~1.1526,~1.1316,~\\dots, 0.03388,~0.01694,~0] \\; \\mathrm{kpc}$"
      ],
      "text/plain": [
       "<Quantity [ 1.1735 , 1.1526 , 1.1316 ,...,  0.03388, 0.01694, 0.     ] kpc>"
      ]
     },
     "execution_count": 12,
     "metadata": {},
     "output_type": "execute_result"
    }
   ],
   "source": [
    "data['Rin']* u.kpc"
   ]
  },
  {
   "cell_type": "code",
   "execution_count": 13,
   "metadata": {
    "collapsed": true
   },
   "outputs": [],
   "source": [
    "r = (data['Rin'] + data['Rout']) * 0.5"
   ]
  },
  {
   "cell_type": "code",
   "execution_count": 14,
   "metadata": {
    "collapsed": false
   },
   "outputs": [],
   "source": [
    "logr = np.log10(r)"
   ]
  },
  {
   "cell_type": "code",
   "execution_count": 15,
   "metadata": {
    "collapsed": true
   },
   "outputs": [],
   "source": [
    "lognelec = np.log10(data['nelec'])"
   ]
  },
  {
   "cell_type": "code",
   "execution_count": 24,
   "metadata": {
    "collapsed": false
   },
   "outputs": [],
   "source": [
    "nbins = len(data['Rin'])\n",
    "r = (data['Rin'] + data['Rout']) * 0.5\n",
    "logr = np.log10(r)\n",
    "\n",
    "lognelec = np.log10(data['nelec'])\n",
    "logneerr = np.log10(data['neerr'] / data['nelec'])\n",
    "yerror = logneerr"
   ]
  },
  {
   "cell_type": "code",
   "execution_count": 25,
   "metadata": {
    "collapsed": true
   },
   "outputs": [],
   "source": [
    "deg = 3"
   ]
  },
  {
   "cell_type": "code",
   "execution_count": 26,
   "metadata": {
    "collapsed": false
   },
   "outputs": [
    {
     "ename": "ValueError",
     "evalue": "On entry to DGELSD parameter number 6 had an illegal value",
     "output_type": "error",
     "traceback": [
      "\u001b[0;31m---------------------------------------------------------------------------\u001b[0m",
      "\u001b[0;31mValueError\u001b[0m                                Traceback (most recent call last)",
      "\u001b[0;32m<ipython-input-26-117242eaf6a8>\u001b[0m in \u001b[0;36m<module>\u001b[0;34m()\u001b[0m\n\u001b[0;32m----> 1\u001b[0;31m \u001b[0mcoeffs\u001b[0m \u001b[0;34m=\u001b[0m \u001b[0mnp\u001b[0m\u001b[0;34m.\u001b[0m\u001b[0mpolyfit\u001b[0m\u001b[0;34m(\u001b[0m\u001b[0mlogr\u001b[0m\u001b[0;34m,\u001b[0m \u001b[0mlognelec\u001b[0m\u001b[0;34m,\u001b[0m \u001b[0mdeg\u001b[0m\u001b[0;34m)\u001b[0m\u001b[0;34m\u001b[0m\u001b[0m\n\u001b[0m",
      "\u001b[0;32m/home/grant/Repository/anaconda/lib/python3.5/site-packages/numpy/lib/polynomial.py\u001b[0m in \u001b[0;36mpolyfit\u001b[0;34m(x, y, deg, rcond, full, w, cov)\u001b[0m\n\u001b[1;32m    587\u001b[0m     \u001b[0mscale\u001b[0m \u001b[0;34m=\u001b[0m \u001b[0mNX\u001b[0m\u001b[0;34m.\u001b[0m\u001b[0msqrt\u001b[0m\u001b[0;34m(\u001b[0m\u001b[0;34m(\u001b[0m\u001b[0mlhs\u001b[0m\u001b[0;34m*\u001b[0m\u001b[0mlhs\u001b[0m\u001b[0;34m)\u001b[0m\u001b[0;34m.\u001b[0m\u001b[0msum\u001b[0m\u001b[0;34m(\u001b[0m\u001b[0maxis\u001b[0m\u001b[0;34m=\u001b[0m\u001b[0;36m0\u001b[0m\u001b[0;34m)\u001b[0m\u001b[0;34m)\u001b[0m\u001b[0;34m\u001b[0m\u001b[0m\n\u001b[1;32m    588\u001b[0m     \u001b[0mlhs\u001b[0m \u001b[0;34m/=\u001b[0m \u001b[0mscale\u001b[0m\u001b[0;34m\u001b[0m\u001b[0m\n\u001b[0;32m--> 589\u001b[0;31m     \u001b[0mc\u001b[0m\u001b[0;34m,\u001b[0m \u001b[0mresids\u001b[0m\u001b[0;34m,\u001b[0m \u001b[0mrank\u001b[0m\u001b[0;34m,\u001b[0m \u001b[0ms\u001b[0m \u001b[0;34m=\u001b[0m \u001b[0mlstsq\u001b[0m\u001b[0;34m(\u001b[0m\u001b[0mlhs\u001b[0m\u001b[0;34m,\u001b[0m \u001b[0mrhs\u001b[0m\u001b[0;34m,\u001b[0m \u001b[0mrcond\u001b[0m\u001b[0;34m)\u001b[0m\u001b[0;34m\u001b[0m\u001b[0m\n\u001b[0m\u001b[1;32m    590\u001b[0m     \u001b[0mc\u001b[0m \u001b[0;34m=\u001b[0m \u001b[0;34m(\u001b[0m\u001b[0mc\u001b[0m\u001b[0;34m.\u001b[0m\u001b[0mT\u001b[0m\u001b[0;34m/\u001b[0m\u001b[0mscale\u001b[0m\u001b[0;34m)\u001b[0m\u001b[0;34m.\u001b[0m\u001b[0mT\u001b[0m  \u001b[0;31m# broadcast scale coefficients\u001b[0m\u001b[0;34m\u001b[0m\u001b[0m\n\u001b[1;32m    591\u001b[0m \u001b[0;34m\u001b[0m\u001b[0m\n",
      "\u001b[0;32m/home/grant/Repository/anaconda/lib/python3.5/site-packages/numpy/linalg/linalg.py\u001b[0m in \u001b[0;36mlstsq\u001b[0;34m(a, b, rcond)\u001b[0m\n\u001b[1;32m   1917\u001b[0m         \u001b[0mwork\u001b[0m \u001b[0;34m=\u001b[0m \u001b[0mzeros\u001b[0m\u001b[0;34m(\u001b[0m\u001b[0;34m(\u001b[0m\u001b[0mlwork\u001b[0m\u001b[0;34m,\u001b[0m\u001b[0;34m)\u001b[0m\u001b[0;34m,\u001b[0m \u001b[0mt\u001b[0m\u001b[0;34m)\u001b[0m\u001b[0;34m\u001b[0m\u001b[0m\n\u001b[1;32m   1918\u001b[0m         results = lapack_routine(m, n, n_rhs, a, m, bstar, ldb, s, rcond,\n\u001b[0;32m-> 1919\u001b[0;31m                                  0, work, lwork, iwork, 0)\n\u001b[0m\u001b[1;32m   1920\u001b[0m     \u001b[0;32mif\u001b[0m \u001b[0mresults\u001b[0m\u001b[0;34m[\u001b[0m\u001b[0;34m'info'\u001b[0m\u001b[0;34m]\u001b[0m \u001b[0;34m>\u001b[0m \u001b[0;36m0\u001b[0m\u001b[0;34m:\u001b[0m\u001b[0;34m\u001b[0m\u001b[0m\n\u001b[1;32m   1921\u001b[0m         \u001b[0;32mraise\u001b[0m \u001b[0mLinAlgError\u001b[0m\u001b[0;34m(\u001b[0m\u001b[0;34m'SVD did not converge in Linear Least Squares'\u001b[0m\u001b[0;34m)\u001b[0m\u001b[0;34m\u001b[0m\u001b[0m\n",
      "\u001b[0;31mValueError\u001b[0m: On entry to DGELSD parameter number 6 had an illegal value"
     ]
    }
   ],
   "source": [
    "coeffs = np.polyfit(logr, lognelec, deg)"
   ]
  },
  {
   "cell_type": "code",
   "execution_count": 27,
   "metadata": {
    "collapsed": false
   },
   "outputs": [
    {
     "ename": "NameError",
     "evalue": "name 'coeffs' is not defined",
     "output_type": "error",
     "traceback": [
      "\u001b[0;31m---------------------------------------------------------------------------\u001b[0m",
      "\u001b[0;31mNameError\u001b[0m                                 Traceback (most recent call last)",
      "\u001b[0;32m<ipython-input-27-1b19aaaaaf7c>\u001b[0m in \u001b[0;36m<module>\u001b[0;34m()\u001b[0m\n\u001b[0;32m----> 1\u001b[0;31m \u001b[0mcoeffs\u001b[0m\u001b[0;34m\u001b[0m\u001b[0m\n\u001b[0m",
      "\u001b[0;31mNameError\u001b[0m: name 'coeffs' is not defined"
     ]
    }
   ],
   "source": [
    "coeffs"
   ]
  },
  {
   "cell_type": "code",
   "execution_count": null,
   "metadata": {
    "collapsed": true
   },
   "outputs": [],
   "source": [
    "plt."
   ]
  }
 ],
 "metadata": {
  "anaconda-cloud": {},
  "kernelspec": {
   "display_name": "Python [Root]",
   "language": "python",
   "name": "Python [Root]"
  },
  "language_info": {
   "codemirror_mode": {
    "name": "ipython",
    "version": 3
   },
   "file_extension": ".py",
   "mimetype": "text/x-python",
   "name": "python",
   "nbconvert_exporter": "python",
   "pygments_lexer": "ipython3",
   "version": "3.5.1"
  }
 },
 "nbformat": 4,
 "nbformat_minor": 0
}
