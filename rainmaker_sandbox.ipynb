{
 "cells": [
  {
   "cell_type": "markdown",
   "metadata": {},
   "source": [
    "# Rainmaker sandbox"
   ]
  },
  {
   "cell_type": "markdown",
   "metadata": {},
   "source": [
    "Standard imports..."
   ]
  },
  {
   "cell_type": "code",
   "execution_count": 21,
   "metadata": {
    "collapsed": true
   },
   "outputs": [],
   "source": [
    "import sys, os\n",
    "import argparse\n",
    "import numpy as np\n",
    "from astropy.io import ascii"
   ]
  },
  {
   "cell_type": "markdown",
   "metadata": {},
   "source": [
    "Now we need to import rainmaker. Make sure this jupyter notebook is in the directory above the module, or that it is otherwise in your path! "
   ]
  },
  {
   "cell_type": "code",
   "execution_count": null,
   "metadata": {
    "collapsed": true
   },
   "outputs": [],
   "source": [
    "from rainmaker import rainmaker"
   ]
  },
  {
   "cell_type": "code",
   "execution_count": 27,
   "metadata": {
    "collapsed": true
   },
   "outputs": [],
   "source": [
    "filename = \"rainmaker/accept_main_table.txt\"\n",
    "cluster_name = \"Abell_2597\""
   ]
  },
  {
   "cell_type": "markdown",
   "metadata": {},
   "source": [
    "The ACCEPT main table uses names (in the first column) that are written like \"ABELL_2597\", \"ZWICKY_2107\", etc. So simply ensure that the input cluster_name is in a format that will match that written in the ACCEPT table. This is easy: "
   ]
  },
  {
   "cell_type": "code",
   "execution_count": 28,
   "metadata": {
    "collapsed": false
   },
   "outputs": [
    {
     "data": {
      "text/plain": [
       "'ABELL_2597'"
      ]
     },
     "execution_count": 28,
     "metadata": {},
     "output_type": "execute_result"
    }
   ],
   "source": [
    "cluster_name_clean = cluster_name.replace(\" \",\"_\").upper()\n",
    "cluster_name_clean"
   ]
  },
  {
   "cell_type": "code",
   "execution_count": 24,
   "metadata": {
    "collapsed": false
   },
   "outputs": [],
   "source": [
    "data = rainmaker.parse_data_table(filename, cluster_name_clean)"
   ]
  },
  {
   "cell_type": "code",
   "execution_count": 33,
   "metadata": {
    "collapsed": false
   },
   "outputs": [
    {
     "data": {
      "text/html": [
       "&lt;Table length=12&gt;\n",
       "<table id=\"table4512284400-923045\" class=\"table-striped table-bordered table-condensed\">\n",
       "<thead><tr><th>idx</th><th>Name</th><th>Rin</th><th>Rout</th><th>nelec</th><th>neerr</th><th>Kitpl</th><th>Kflat</th><th>Kerr</th><th>Pitpl</th><th>Pflat</th><th>Perr</th><th>Mgrav</th><th>Merr</th><th>Tx</th><th>Txerr</th><th>Lambda</th><th>tcool5/2</th><th>t52err</th><th>tcool3/2</th><th>t32err</th></tr></thead>\n",
       "<tr><td>0</td><td>ABELL_2597</td><td>0.08328</td><td>0.09086</td><td>0.010248</td><td>0.00020889</td><td>84.828</td><td>84.828</td><td>7.434</td><td>6.6446e-11</td><td>6.6446e-11</td><td>5.91e-12</td><td>5.0837e+12</td><td>322760000000.0</td><td>4.0052</td><td>0.34566</td><td>1.7894e-23</td><td>6.3758</td><td>0.56539</td><td>3.8255</td><td>0.33924</td></tr>\n",
       "<tr><td>1</td><td>ABELL_2597</td><td>0.07571</td><td>0.08328</td><td>0.010591</td><td>0.00038548</td><td>81.501</td><td>81.501</td><td>7.8627</td><td>6.7436e-11</td><td>6.7436e-11</td><td>6.7582e-12</td><td>1.8715e+13</td><td>1.2814e+12</td><td>3.9491</td><td>0.37373</td><td>1.7894e-23</td><td>6.0834</td><td>0.61682</td><td>3.65</td><td>0.3701</td></tr>\n",
       "<tr><td>2</td><td>ABELL_2597</td><td>0.06814</td><td>0.07571</td><td>0.012271</td><td>0.00035305</td><td>78.347</td><td>78.347</td><td>7.7008</td><td>8.2861e-11</td><td>8.2861e-11</td><td>8.3361e-12</td><td>1.5237e+13</td><td>1.0772e+12</td><td>4.2416</td><td>0.41124</td><td>1.8758e-23</td><td>5.3795</td><td>0.54404</td><td>3.2277</td><td>0.32642</td></tr>\n",
       "<tr><td>3</td><td>ABELL_2597</td><td>0.06057</td><td>0.06814</td><td>0.01408</td><td>0.0004097</td><td>72.837</td><td>72.837</td><td>7.1284</td><td>9.6871e-11</td><td>9.6871e-11</td><td>9.7107e-12</td><td>1.3862e+13</td><td>975160000000.0</td><td>4.2094</td><td>0.39988</td><td>1.8982e-23</td><td>4.5981</td><td>0.45683</td><td>2.7588</td><td>0.2741</td></tr>\n",
       "<tr><td>4</td><td>ABELL_2597</td><td>0.053</td><td>0.06057</td><td>0.016118</td><td>0.00043943</td><td>64.585</td><td>64.585</td><td>6.1777</td><td>1.076e-10</td><td>1.076e-10</td><td>1.0522e-11</td><td>1.1918e+13</td><td>820720000000.0</td><td>4.0748</td><td>0.38345</td><td>1.8765e-23</td><td>3.9332</td><td>0.38534</td><td>2.3599</td><td>0.23121</td></tr>\n",
       "<tr><td>5</td><td>ABELL_2597</td><td>0.04543</td><td>0.053</td><td>0.022143</td><td>0.00049273</td><td>49.883</td><td>49.883</td><td>4.6894</td><td>1.411e-10</td><td>1.411e-10</td><td>1.3469e-11</td><td>9.0001e+12</td><td>612690000000.0</td><td>3.8184</td><td>0.34744</td><td>1.7795e-23</td><td>2.8291</td><td>0.26501</td><td>1.6975</td><td>0.15901</td></tr>\n",
       "<tr><td>6</td><td>ABELL_2597</td><td>0.03786</td><td>0.04543</td><td>0.026009</td><td>0.0005576</td><td>41.287</td><td>41.287</td><td>4.132</td><td>1.5271e-10</td><td>1.5271e-10</td><td>1.5476e-11</td><td>6.8775e+12</td><td>499570000000.0</td><td>3.5377</td><td>0.35133</td><td>1.7856e-23</td><td>2.2238</td><td>0.22594</td><td>1.3343</td><td>0.13556</td></tr>\n",
       "<tr><td>7</td><td>ABELL_2597</td><td>0.03029</td><td>0.03786</td><td>0.032752</td><td>0.00053117</td><td>33.761</td><td>33.761</td><td>2.7789</td><td>1.8337e-10</td><td>1.8337e-10</td><td>1.5255e-11</td><td>4.9278e+12</td><td>294870000000.0</td><td>3.2308</td><td>0.25765</td><td>1.7498e-23</td><td>1.6457</td><td>0.13393</td><td>0.98742</td><td>0.080358</td></tr>\n",
       "<tr><td>8</td><td>ABELL_2597</td><td>0.02271</td><td>0.03029</td><td>0.035399</td><td>0.00057924</td><td>29.155</td><td>29.155</td><td>2.5724</td><td>1.8025e-10</td><td>1.8025e-10</td><td>1.6055e-11</td><td>2.5753e+12</td><td>165350000000.0</td><td>3.1708</td><td>0.26074</td><td>1.8234e-23</td><td>1.4341</td><td>0.12024</td><td>0.86047</td><td>0.072145</td></tr>\n",
       "<tr><td>9</td><td>ABELL_2597</td><td>0.01514</td><td>0.02271</td><td>0.04305</td><td>0.00058564</td><td>25.394</td><td>25.394</td><td>1.9254</td><td>2.1754e-10</td><td>2.1754e-10</td><td>1.664e-11</td><td>2.726e+12</td><td>150480000000.0</td><td>3.0181</td><td>0.23962</td><td>1.8483e-23</td><td>1.1073</td><td>0.089195</td><td>0.66438</td><td>0.053517</td></tr>\n",
       "<tr><td>10</td><td>ABELL_2597</td><td>0.00757</td><td>0.01514</td><td>0.065628</td><td>0.00072684</td><td>16.165</td><td>16.165</td><td>1.284</td><td>2.7961e-10</td><td>2.7961e-10</td><td>2.233e-11</td><td>546380000000.0</td><td>31689000000.0</td><td>2.5829</td><td>0.20486</td><td>1.625e-23</td><td>0.70704</td><td>0.056622</td><td>0.42422</td><td>0.033973</td></tr>\n",
       "<tr><td>11</td><td>ABELL_2597</td><td>0.0</td><td>0.00757</td><td>0.084861</td><td>0.00071986</td><td>11.496</td><td>12.221</td><td>0.98604</td><td>3.0519e-10</td><td>3.2444e-10</td><td>2.6248e-11</td><td>230600000000.0</td><td>14473000000.0</td><td>2.36</td><td>0.19</td><td>1.5948e-23</td><td>0.50907</td><td>0.041211</td><td>0.30544</td><td>0.024727</td></tr>\n",
       "</table><style>table.dataTable {clear: both; width: auto !important; margin: 0 !important;}\n",
       ".dataTables_info, .dataTables_length, .dataTables_filter, .dataTables_paginate{\n",
       "display: inline-block; margin-right: 1em; }\n",
       ".paginate_button { margin-right: 5px; }\n",
       "</style>\n",
       "<script>\n",
       "require.config({paths: {\n",
       "    datatables: 'https://cdn.datatables.net/1.10.9/js/jquery.dataTables.min'\n",
       "}});\n",
       "require([\"datatables\"], function(){\n",
       "    console.log(\"$('#table4512284400-923045').dataTable()\");\n",
       "    $('#table4512284400-923045').dataTable({\n",
       "        \"order\": [],\n",
       "        \"iDisplayLength\": 50,\n",
       "        \"aLengthMenu\": [[10, 25, 50, 100, 500, 1000, -1], [10, 25, 50, 100, 500, 1000, 'All']],\n",
       "        \"pagingType\": \"full_numbers\"\n",
       "    });\n",
       "});\n",
       "</script>\n"
      ],
      "text/plain": [
       "<IPython.core.display.HTML object>"
      ]
     },
     "execution_count": 33,
     "metadata": {},
     "output_type": "execute_result"
    }
   ],
   "source": [
    "data.show_in_notebook()"
   ]
  },
  {
   "cell_type": "code",
   "execution_count": 34,
   "metadata": {
    "collapsed": false
   },
   "outputs": [
    {
     "data": {
      "text/plain": [
       "['Name',\n",
       " 'Rin',\n",
       " 'Rout',\n",
       " 'nelec',\n",
       " 'neerr',\n",
       " 'Kitpl',\n",
       " 'Kflat',\n",
       " 'Kerr',\n",
       " 'Pitpl',\n",
       " 'Pflat',\n",
       " 'Perr',\n",
       " 'Mgrav',\n",
       " 'Merr',\n",
       " 'Tx',\n",
       " 'Txerr',\n",
       " 'Lambda',\n",
       " 'tcool5/2',\n",
       " 't52err',\n",
       " 'tcool3/2',\n",
       " 't32err']"
      ]
     },
     "execution_count": 34,
     "metadata": {},
     "output_type": "execute_result"
    }
   ],
   "source": [
    "data.colnames"
   ]
  },
  {
   "cell_type": "markdown",
   "metadata": {},
   "source": [
    "Don't make dynamically created variable names. They're hard to program with. Instead, create a dictionary from a for loop. "
   ]
  },
  {
   "cell_type": "code",
   "execution_count": 49,
   "metadata": {
    "collapsed": true
   },
   "outputs": [],
   "source": [
    "dictionary = {}\n",
    "for column in data.colnames:\n",
    "    dictionary['%s' % column] = data[column]"
   ]
  },
  {
   "cell_type": "code",
   "execution_count": 51,
   "metadata": {
    "collapsed": false
   },
   "outputs": [
    {
     "data": {
      "text/plain": [
       "{'Kerr': <Column name='Kerr' dtype='float64' length=12>\n",
       "   7.434\n",
       "  7.8627\n",
       "  7.7008\n",
       "  7.1284\n",
       "  6.1777\n",
       "  4.6894\n",
       "   4.132\n",
       "  2.7789\n",
       "  2.5724\n",
       "  1.9254\n",
       "   1.284\n",
       " 0.98604, 'Kflat': <Column name='Kflat' dtype='float64' length=12>\n",
       " 84.828\n",
       " 81.501\n",
       " 78.347\n",
       " 72.837\n",
       " 64.585\n",
       " 49.883\n",
       " 41.287\n",
       " 33.761\n",
       " 29.155\n",
       " 25.394\n",
       " 16.165\n",
       " 12.221, 'Kitpl': <Column name='Kitpl' dtype='float64' length=12>\n",
       " 84.828\n",
       " 81.501\n",
       " 78.347\n",
       " 72.837\n",
       " 64.585\n",
       " 49.883\n",
       " 41.287\n",
       " 33.761\n",
       " 29.155\n",
       " 25.394\n",
       " 16.165\n",
       " 11.496, 'Lambda': <Column name='Lambda' dtype='float64' length=12>\n",
       " 1.7894e-23\n",
       " 1.7894e-23\n",
       " 1.8758e-23\n",
       " 1.8982e-23\n",
       " 1.8765e-23\n",
       " 1.7795e-23\n",
       " 1.7856e-23\n",
       " 1.7498e-23\n",
       " 1.8234e-23\n",
       " 1.8483e-23\n",
       "  1.625e-23\n",
       " 1.5948e-23, 'Merr': <Column name='Merr' dtype='float64' length=12>\n",
       " 322760000000.0\n",
       "     1.2814e+12\n",
       "     1.0772e+12\n",
       " 975160000000.0\n",
       " 820720000000.0\n",
       " 612690000000.0\n",
       " 499570000000.0\n",
       " 294870000000.0\n",
       " 165350000000.0\n",
       " 150480000000.0\n",
       "  31689000000.0\n",
       "  14473000000.0, 'Mgrav': <Column name='Mgrav' dtype='float64' length=12>\n",
       "     5.0837e+12\n",
       "     1.8715e+13\n",
       "     1.5237e+13\n",
       "     1.3862e+13\n",
       "     1.1918e+13\n",
       "     9.0001e+12\n",
       "     6.8775e+12\n",
       "     4.9278e+12\n",
       "     2.5753e+12\n",
       "      2.726e+12\n",
       " 546380000000.0\n",
       " 230600000000.0, 'Name': <Column name='Name' dtype='str18' length=12>\n",
       " ABELL_2597\n",
       " ABELL_2597\n",
       " ABELL_2597\n",
       " ABELL_2597\n",
       " ABELL_2597\n",
       " ABELL_2597\n",
       " ABELL_2597\n",
       " ABELL_2597\n",
       " ABELL_2597\n",
       " ABELL_2597\n",
       " ABELL_2597\n",
       " ABELL_2597, 'Perr': <Column name='Perr' dtype='float64' length=12>\n",
       "   5.91e-12\n",
       " 6.7582e-12\n",
       " 8.3361e-12\n",
       " 9.7107e-12\n",
       " 1.0522e-11\n",
       " 1.3469e-11\n",
       " 1.5476e-11\n",
       " 1.5255e-11\n",
       " 1.6055e-11\n",
       "  1.664e-11\n",
       "  2.233e-11\n",
       " 2.6248e-11, 'Pflat': <Column name='Pflat' dtype='float64' length=12>\n",
       " 6.6446e-11\n",
       " 6.7436e-11\n",
       " 8.2861e-11\n",
       " 9.6871e-11\n",
       "  1.076e-10\n",
       "  1.411e-10\n",
       " 1.5271e-10\n",
       " 1.8337e-10\n",
       " 1.8025e-10\n",
       " 2.1754e-10\n",
       " 2.7961e-10\n",
       " 3.2444e-10, 'Pitpl': <Column name='Pitpl' dtype='float64' length=12>\n",
       " 6.6446e-11\n",
       " 6.7436e-11\n",
       " 8.2861e-11\n",
       " 9.6871e-11\n",
       "  1.076e-10\n",
       "  1.411e-10\n",
       " 1.5271e-10\n",
       " 1.8337e-10\n",
       " 1.8025e-10\n",
       " 2.1754e-10\n",
       " 2.7961e-10\n",
       " 3.0519e-10, 'Rin': <Column name='Rin' dtype='float64' length=12>\n",
       " 0.08328\n",
       " 0.07571\n",
       " 0.06814\n",
       " 0.06057\n",
       "   0.053\n",
       " 0.04543\n",
       " 0.03786\n",
       " 0.03029\n",
       " 0.02271\n",
       " 0.01514\n",
       " 0.00757\n",
       "     0.0, 'Rout': <Column name='Rout' dtype='float64' length=12>\n",
       " 0.09086\n",
       " 0.08328\n",
       " 0.07571\n",
       " 0.06814\n",
       " 0.06057\n",
       "   0.053\n",
       " 0.04543\n",
       " 0.03786\n",
       " 0.03029\n",
       " 0.02271\n",
       " 0.01514\n",
       " 0.00757, 'Tx': <Column name='Tx' dtype='float64' length=12>\n",
       " 4.0052\n",
       " 3.9491\n",
       " 4.2416\n",
       " 4.2094\n",
       " 4.0748\n",
       " 3.8184\n",
       " 3.5377\n",
       " 3.2308\n",
       " 3.1708\n",
       " 3.0181\n",
       " 2.5829\n",
       "   2.36, 'Txerr': <Column name='Txerr' dtype='float64' length=12>\n",
       " 0.34566\n",
       " 0.37373\n",
       " 0.41124\n",
       " 0.39988\n",
       " 0.38345\n",
       " 0.34744\n",
       " 0.35133\n",
       " 0.25765\n",
       " 0.26074\n",
       " 0.23962\n",
       " 0.20486\n",
       "    0.19, 'neerr': <Column name='neerr' dtype='float64' length=12>\n",
       " 0.00020889\n",
       " 0.00038548\n",
       " 0.00035305\n",
       "  0.0004097\n",
       " 0.00043943\n",
       " 0.00049273\n",
       "  0.0005576\n",
       " 0.00053117\n",
       " 0.00057924\n",
       " 0.00058564\n",
       " 0.00072684\n",
       " 0.00071986, 'nelec': <Column name='nelec' dtype='float64' length=12>\n",
       " 0.010248\n",
       " 0.010591\n",
       " 0.012271\n",
       "  0.01408\n",
       " 0.016118\n",
       " 0.022143\n",
       " 0.026009\n",
       " 0.032752\n",
       " 0.035399\n",
       "  0.04305\n",
       " 0.065628\n",
       " 0.084861, 't32err': <Column name='t32err' dtype='float64' length=12>\n",
       "  0.33924\n",
       "   0.3701\n",
       "  0.32642\n",
       "   0.2741\n",
       "  0.23121\n",
       "  0.15901\n",
       "  0.13556\n",
       " 0.080358\n",
       " 0.072145\n",
       " 0.053517\n",
       " 0.033973\n",
       " 0.024727, 't52err': <Column name='t52err' dtype='float64' length=12>\n",
       "  0.56539\n",
       "  0.61682\n",
       "  0.54404\n",
       "  0.45683\n",
       "  0.38534\n",
       "  0.26501\n",
       "  0.22594\n",
       "  0.13393\n",
       "  0.12024\n",
       " 0.089195\n",
       " 0.056622\n",
       " 0.041211, 'tcool3/2': <Column name='tcool3/2' dtype='float64' length=12>\n",
       "  3.8255\n",
       "    3.65\n",
       "  3.2277\n",
       "  2.7588\n",
       "  2.3599\n",
       "  1.6975\n",
       "  1.3343\n",
       " 0.98742\n",
       " 0.86047\n",
       " 0.66438\n",
       " 0.42422\n",
       " 0.30544, 'tcool5/2': <Column name='tcool5/2' dtype='float64' length=12>\n",
       "  6.3758\n",
       "  6.0834\n",
       "  5.3795\n",
       "  4.5981\n",
       "  3.9332\n",
       "  2.8291\n",
       "  2.2238\n",
       "  1.6457\n",
       "  1.4341\n",
       "  1.1073\n",
       " 0.70704\n",
       " 0.50907}"
      ]
     },
     "execution_count": 51,
     "metadata": {},
     "output_type": "execute_result"
    }
   ],
   "source": [
    "dictionary"
   ]
  },
  {
   "cell_type": "code",
   "execution_count": null,
   "metadata": {
    "collapsed": true
   },
   "outputs": [],
   "source": []
  }
 ],
 "metadata": {
  "kernelspec": {
   "display_name": "Python [Root]",
   "language": "python",
   "name": "Python [Root]"
  },
  "language_info": {
   "codemirror_mode": {
    "name": "ipython",
    "version": 3
   },
   "file_extension": ".py",
   "mimetype": "text/x-python",
   "name": "python",
   "nbconvert_exporter": "python",
   "pygments_lexer": "ipython3",
   "version": "3.5.2"
  }
 },
 "nbformat": 4,
 "nbformat_minor": 0
}
